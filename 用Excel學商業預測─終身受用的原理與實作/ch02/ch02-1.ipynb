{
 "cells": [
  {
   "cell_type": "code",
   "execution_count": 45,
   "metadata": {},
   "outputs": [],
   "source": [
    "# basic\n",
    "from scipy.stats import norm\n",
    "import pandas as pd\n",
    "import math\n",
    "\n",
    "import matplotlib.pyplot as plt"
   ]
  },
  {
   "cell_type": "code",
   "execution_count": 37,
   "metadata": {},
   "outputs": [
    {
     "data": {
      "text/plain": [
       "0    77.3\n",
       "1    76.9\n",
       "2    43.0\n",
       "3    70.9\n",
       "4    68.7\n",
       "dtype: float64"
      ]
     },
     "execution_count": 37,
     "metadata": {},
     "output_type": "execute_result"
    }
   ],
   "source": [
    "people = pd.Series([77.3,76.9,43,70.9,68.7,44.5,70.6,70.3,76.4,75.4,68.7,65.2,72.1,60.6,74.5,62.8,75.7,73,52.5,71.1,62,61.9,71.3,36.5,64.7,74.2,67.1,47,39.8,53.6,49.3,76.2,67,42.7,45.1,73,69.1,69.2,59.4,49.6,75,70.3,74.8,76,72.1,47.7,51,74.2,39.4,64.4,49.2,68.3,66.7,67.7,50.4,51.1,65.8,42.8,68.1,74.4,75.2,70.7,51.8,45.7,69.5,75,56,75.9,74.8,72.4,63,48,44,58,50.2,63.2,67.8,77.1,63.6,65.3,68.8,63.5,74.4,77.1,75.5,73.7,77.8,69.7,59.6,48.7,58,62.8,71.5,74.9,64.8,53.3,65.7,71.9,40.9,54.6,69.2,67.6,74.6,52.5,39.6,70.6,68.3,51.1,75.9,75.8,50.9,68.4,70.4,61.9,66.8,37.3,53.8,44.3,60.1,75.6,73.3,72.5,75.3,67.2,45.9,52,76,70.8,70.2,61.2,65,72.6,56.8,68.6,67.3,68,69.8,72.6,71.2,69.4,62.8,70.6,66.5,60,40.2,68.2,71.1,66.9,71.1,52.5,39.2,75.9,69.8,72.3,67.9,47.4,46.5,75.4,69.9,55.6,68.5,38.1,77.6,75.9,70.6,65.2,67.9,71.4,51.1,68.3,72.5,69.6,68,63.9,45.3,62.7,74.1,75.7,50.1,74.6,71.6,66.8,67.5,70.9,66.9,62.3,60.7,70.9,42.6,43.3])\n",
    "people.head()"
   ]
  },
  {
   "cell_type": "code",
   "execution_count": 38,
   "metadata": {},
   "outputs": [
    {
     "data": {
      "text/plain": [
       "63.776315789473685"
      ]
     },
     "execution_count": 38,
     "metadata": {},
     "output_type": "execute_result"
    }
   ],
   "source": [
    "mean= people.mean()\n",
    "mean"
   ]
  },
  {
   "cell_type": "code",
   "execution_count": 39,
   "metadata": {},
   "outputs": [
    {
     "data": {
      "text/plain": [
       "11.063014175669851"
      ]
     },
     "execution_count": 39,
     "metadata": {},
     "output_type": "execute_result"
    }
   ],
   "source": [
    "std = people.std()\n",
    "std"
   ]
  },
  {
   "cell_type": "code",
   "execution_count": 40,
   "metadata": {},
   "outputs": [
    {
     "data": {
      "text/plain": [
       "77.8"
      ]
     },
     "execution_count": 40,
     "metadata": {},
     "output_type": "execute_result"
    }
   ],
   "source": [
    "max = people.max()\n",
    "max"
   ]
  },
  {
   "cell_type": "code",
   "execution_count": 41,
   "metadata": {},
   "outputs": [
    {
     "data": {
      "text/plain": [
       "36.5"
      ]
     },
     "execution_count": 41,
     "metadata": {},
     "output_type": "execute_result"
    }
   ],
   "source": [
    "min = people.min()\n",
    "min"
   ]
  },
  {
   "cell_type": "code",
   "execution_count": 42,
   "metadata": {},
   "outputs": [
    {
     "data": {
      "text/plain": [
       "0.5440373423335984"
      ]
     },
     "execution_count": 42,
     "metadata": {},
     "output_type": "execute_result"
    }
   ],
   "source": [
    "cdf = norm.cdf((65-mean)/std)\n",
    "cdf"
   ]
  },
  {
   "cell_type": "code",
   "execution_count": 44,
   "metadata": {},
   "outputs": [
    {
     "data": {
      "text/plain": [
       "0.9363278986093393"
      ]
     },
     "execution_count": 44,
     "metadata": {},
     "output_type": "execute_result"
    }
   ],
   "source": [
    "cdf2 = norm.cdf((65-mean)/(std/math.sqrt(190)))\n",
    "cdf2"
   ]
  },
  {
   "cell_type": "code",
   "execution_count": 47,
   "metadata": {},
   "outputs": [
    {
     "data": {
      "text/plain": [
       "count    190.000000\n",
       "mean      63.776316\n",
       "std       11.063014\n",
       "min       36.500000\n",
       "25%       55.700000\n",
       "50%       67.850000\n",
       "75%       72.050000\n",
       "max       77.800000\n",
       "dtype: float64"
      ]
     },
     "execution_count": 47,
     "metadata": {},
     "output_type": "execute_result"
    }
   ],
   "source": [
    "people.describe()"
   ]
  },
  {
   "cell_type": "code",
   "execution_count": 57,
   "metadata": {},
   "outputs": [
    {
     "data": {
      "image/png": "[encoded data removed]",
      "text/plain": [
       "<Figure size 432x288 with 1 Axes>"
      ]
     },
     "metadata": {},
     "output_type": "display_data"
    }
   ],
   "source": [
    "people.hist(bins=13, range=(30,95), rwidth=0.6);"
   ]
  },
  {
   "cell_type": "code",
   "execution_count": null,
   "metadata": {},
   "outputs": [],
   "source": []
  }
 ],
 "metadata": {
  "kernelspec": {
   "display_name": "Python 3",
   "language": "python",
   "name": "python3"
  },
  "language_info": {
   "codemirror_mode": {
    "name": "ipython",
    "version": 3
   },
   "file_extension": ".py",
   "mimetype": "text/x-python",
   "name": "python",
   "nbconvert_exporter": "python",
   "pygments_lexer": "ipython3",
   "version": "3.6.5"
  }
 },
 "nbformat": 4,
 "nbformat_minor": 2
}
